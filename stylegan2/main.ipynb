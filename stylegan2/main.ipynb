{
 "cells": [
  {
   "cell_type": "markdown",
   "metadata": {},
   "source": [
    "## StyleGAN2算法复现\n",
    "\n",
    "StyleGAN2是来自NVIDIA LAB，它实力雄厚、财大气粗，一般公司和个人开发者完全比不了，因此研究成果价值较大。<br/>\n",
    "本文复现StyleGAN2论文。\n"
   ]
  },
  {
   "cell_type": "code",
   "execution_count": null,
   "metadata": {
    "scrolled": true
   },
   "outputs": [],
   "source": [
    "@inproceedings{Karras2019stylegan2,\n",
    "  title     = {Analyzing and Improving the Image Quality of {StyleGAN}},\n",
    "  author    = {Tero Karras and Samuli Laine and Miika Aittala and Janne Hellsten and Jaakko Lehtinen and Timo Aila},\n",
    "  booktitle = {Proc. CVPR},\n",
    "  year      = {2020}\n",
    "}"
   ]
  },
  {
   "cell_type": "markdown",
   "metadata": {},
   "source": [
    "### 一、 前言\n",
    "PaddleGAN用飞桨框架实现了StyleGAN2算法，但是基于StyleGAN2算法有不少优秀的衍生算法，PaddleGAN不可能一一实现。<br/>\n",
    "为了方便StyleGAN2衍生算法复现，我从PaddleGAN中把StyleGAN2相关代码剥离了出来，并根据自身编程经验增强了可读性，十分适合初学者学习。"
   ]
  },
  {
   "cell_type": "markdown",
   "metadata": {},
   "source": [
    "### 二、数据预处理\n",
    "创建项目时引入AIStudio自带数据集FFHQ，分辨率256x256。"
   ]
  },
  {
   "cell_type": "code",
   "execution_count": 1,
   "metadata": {
    "execution": {
     "iopub.execute_input": "2022-09-15T12:12:16.089278Z",
     "iopub.status.busy": "2022-09-15T12:12:16.087942Z",
     "iopub.status.idle": "2022-09-15T12:13:57.250758Z",
     "shell.execute_reply": "2022-09-15T12:13:57.249639Z",
     "shell.execute_reply.started": "2022-09-15T12:12:16.089235Z"
    },
    "scrolled": true,
    "tags": []
   },
   "outputs": [
    {
     "name": "stdout",
     "output_type": "stream",
     "text": [
      "/home/aistudio/data/data111879\r\n"
     ]
    }
   ],
   "source": [
    "# 执行一遍就行\n",
    "%cd /home/aistudio/data/data111879/\n",
    "!tar -xvf images256x256.tar >/dev/null"
   ]
  },
  {
   "cell_type": "markdown",
   "metadata": {},
   "source": [
    "### 三、StyleGAN2特性\n",
    "#### 3.1 StyleGAN2自定义算子\n",
    "请参考下列AIStudio的项目文件。<br/>\n",
    "NVIDIA的大神用扎实的理论和大量实验，改良了之前算法常用的算子，功能仍然类似，具体如下：\n",
    "\n",
    "\n",
    "* upfirdn2d.py 定义改进版的上采样层 + Blur（低通滤波消除混叠）\n",
    "* fused_act.py 定义leakyReLU\n",
    "* equalized.py 定义改进版的Linear层\n",
    "\n",
    "***建议初学者把它们当成Library,不要阅读源码。<br/>***\n",
    "\n",
    "#### 3.2 lazy regularization\n",
    "StyleGAN每次计算loss都会做R1 Regularization。NVIDIA的大神发现没有必要，因此StyleGAN2改成了D网络每16次迭代做一次正则，G网络每4次迭代做一次正则。<br/>\n",
    "理论来自论文《Which training methods for GANs do actually converge》\n",
    "\n",
    "#### 3.3 为什么要Blur\n",
    "引入Blur的原因来自论文《Making Convolutional Networks Shift-Invariant Again》<br/>\n",
    "***建议初学者把这个当成结论，不要阅读论文。<br/>***\n",
    "\n",
    "**引入依赖包**"
   ]
  },
  {
   "cell_type": "code",
   "execution_count": 1,
   "metadata": {
    "execution": {
     "iopub.execute_input": "2022-09-15T13:53:18.348932Z",
     "iopub.status.busy": "2022-09-15T13:53:18.348440Z",
     "iopub.status.idle": "2022-09-15T13:53:19.942896Z",
     "shell.execute_reply": "2022-09-15T13:53:19.941936Z",
     "shell.execute_reply.started": "2022-09-15T13:53:18.348906Z"
    },
    "scrolled": true
   },
   "outputs": [],
   "source": [
    "import math\n",
    "import random\n",
    "import paddle\n",
    "import paddle.nn as nn\n",
    "import paddle.nn.functional as F\n",
    "import numpy as np\n",
    "\n",
    "# 引入通用工具类\n",
    "from equalized import EqualLinear\n",
    "from fused_act import FusedLeakyReLU\n",
    "from upfirdn2d import Upfirdn2dUpsample, Upfirdn2dBlur"
   ]
  },
  {
   "cell_type": "markdown",
   "metadata": {},
   "source": [
    "### 四、StyleGAN2生成器"
   ]
  },
  {
   "cell_type": "markdown",
   "metadata": {},
   "source": [
    "#### 4.1 引入g_utils工具类\n",
    "g_utils是G网络专用工具类，作用请看代码中的注释。"
   ]
  },
  {
   "cell_type": "code",
   "execution_count": 2,
   "metadata": {
    "execution": {
     "iopub.execute_input": "2022-09-15T13:53:24.303744Z",
     "iopub.status.busy": "2022-09-15T13:53:24.303096Z",
     "iopub.status.idle": "2022-09-15T13:53:24.309377Z",
     "shell.execute_reply": "2022-09-15T13:53:24.308538Z",
     "shell.execute_reply.started": "2022-09-15T13:53:24.303702Z"
    },
    "scrolled": true
   },
   "outputs": [],
   "source": [
    "from g_utils import PixelNorm, ConstantInput, StyledConv, ToRGB"
   ]
  },
  {
   "cell_type": "markdown",
   "metadata": {},
   "source": [
    "#### 4.2 StyleGAN2的G网络"
   ]
  },
  {
   "cell_type": "code",
   "execution_count": 3,
   "metadata": {
    "execution": {
     "iopub.execute_input": "2022-09-15T13:53:26.748334Z",
     "iopub.status.busy": "2022-09-15T13:53:26.747187Z",
     "iopub.status.idle": "2022-09-15T13:53:26.776767Z",
     "shell.execute_reply": "2022-09-15T13:53:26.775890Z",
     "shell.execute_reply.started": "2022-09-15T13:53:26.748289Z"
    },
    "scrolled": true
   },
   "outputs": [],
   "source": [
    "class Generator(nn.Layer):\n",
    "    def __init__(self,\n",
    "                 size,\n",
    "                 style_dim,\n",
    "                 n_mlp,\n",
    "                 channel_multiplier=2,\n",
    "                 blur_kernel=[1, 3, 3, 1],\n",
    "                 lr_mlp=0.01,\n",
    "                 is_concat=False):\n",
    "        super().__init__()\n",
    "\n",
    "        self.size = size\n",
    "\n",
    "        self.style_dim = style_dim\n",
    "\n",
    "        layers = [PixelNorm()]\n",
    "\n",
    "        for i in range(n_mlp):\n",
    "            layers.append(\n",
    "                EqualLinear(style_dim,\n",
    "                            style_dim,\n",
    "                            lr_mul=lr_mlp,\n",
    "                            activation=\"fused_lrelu\"))\n",
    "\n",
    "        self.style = nn.Sequential(*layers)\n",
    "\n",
    "        self.channels = {\n",
    "            4: 512,\n",
    "            8: 512,\n",
    "            16: 512,\n",
    "            32: 512,\n",
    "            64: 256 * channel_multiplier,\n",
    "            128: 128 * channel_multiplier,\n",
    "            256: 64 * channel_multiplier,\n",
    "            512: 32 * channel_multiplier,\n",
    "            1024: 16 * channel_multiplier,\n",
    "        }\n",
    "\n",
    "        self.input = ConstantInput(self.channels[4])\n",
    "        self.conv1 = StyledConv(self.channels[4],\n",
    "                                self.channels[4],\n",
    "                                3,\n",
    "                                style_dim,\n",
    "                                blur_kernel=blur_kernel,\n",
    "                                is_concat=is_concat)\n",
    "        self.to_rgb1 = ToRGB(self.channels[4] *\n",
    "                             2 if is_concat else self.channels[4],\n",
    "                             style_dim,\n",
    "                             upsample=False)\n",
    "\n",
    "        self.log_size = int(math.log(size, 2))\n",
    "        self.num_layers = (self.log_size - 2) * 2 + 1\n",
    "\n",
    "        self.convs = nn.LayerList()\n",
    "        self.upsamples = nn.LayerList()\n",
    "        self.to_rgbs = nn.LayerList()\n",
    "        self.noises = nn.Layer()\n",
    "\n",
    "        in_channel = self.channels[4]\n",
    "\n",
    "        for layer_idx in range(self.num_layers):\n",
    "            res = (layer_idx + 5) // 2\n",
    "            shape = [1, 1, 2**res, 2**res]\n",
    "            self.noises.register_buffer(f\"noise_{layer_idx}\",\n",
    "                                        paddle.randn(shape))\n",
    "\n",
    "        for i in range(3, self.log_size + 1):\n",
    "            out_channel = self.channels[2**i]\n",
    "\n",
    "            self.convs.append(\n",
    "                StyledConv(\n",
    "                    in_channel * 2 if is_concat else in_channel,\n",
    "                    out_channel,\n",
    "                    3,\n",
    "                    style_dim,\n",
    "                    upsample=True,\n",
    "                    blur_kernel=blur_kernel,\n",
    "                    is_concat=is_concat,\n",
    "                ))\n",
    "\n",
    "            self.convs.append(\n",
    "                StyledConv(out_channel * 2 if is_concat else out_channel,\n",
    "                           out_channel,\n",
    "                           3,\n",
    "                           style_dim,\n",
    "                           blur_kernel=blur_kernel,\n",
    "                           is_concat=is_concat))\n",
    "\n",
    "            self.to_rgbs.append(\n",
    "                ToRGB(out_channel * 2 if is_concat else out_channel, style_dim))\n",
    "\n",
    "            in_channel = out_channel\n",
    "\n",
    "        self.n_latent = self.log_size * 2 - 2\n",
    "        self.is_concat = is_concat\n",
    "\n",
    "    def make_noise(self):\n",
    "        noises = [paddle.randn((1, 1, 2**2, 2**2))]\n",
    "\n",
    "        for i in range(3, self.log_size + 1):\n",
    "            for _ in range(2):\n",
    "                noises.append(paddle.randn((1, 1, 2**i, 2**i)))\n",
    "\n",
    "        return noises\n",
    "\n",
    "    def mean_latent(self, n_latent):\n",
    "        latent_in = paddle.randn((n_latent, self.style_dim))\n",
    "        latent = self.style(latent_in).mean(0, keepdim=True)\n",
    "\n",
    "        return latent\n",
    "\n",
    "    def get_latent(self, inputs):\n",
    "        return self.style(inputs)\n",
    "\n",
    "    def get_mean_style(self):\n",
    "        mean_style = None\n",
    "        with paddle.no_grad():\n",
    "            for i in range(10):\n",
    "                style = self.mean_latent(1024)\n",
    "                if mean_style is None:\n",
    "                    mean_style = style\n",
    "                else:\n",
    "                    mean_style += style\n",
    "\n",
    "        mean_style /= 10\n",
    "        return mean_style\n",
    "\n",
    "    def forward(\n",
    "        self,\n",
    "        styles,\n",
    "        return_latents=False,\n",
    "        inject_index=None,\n",
    "        truncation=1.0,\n",
    "        truncation_latent=None,\n",
    "        input_is_latent=False,\n",
    "        noise=None,\n",
    "        randomize_noise=True,\n",
    "    ):\n",
    "        if not input_is_latent:\n",
    "            styles = [self.style(s) for s in styles]\n",
    "\n",
    "        if noise is None:\n",
    "            if randomize_noise:\n",
    "                noise = [None] * self.num_layers\n",
    "            else:\n",
    "                noise = [\n",
    "                    getattr(self.noises, f\"noise_{i}\")\n",
    "                    for i in range(self.num_layers)\n",
    "                ]\n",
    "\n",
    "        if truncation < 1.0:\n",
    "            style_t = []\n",
    "            if truncation_latent is None:\n",
    "                truncation_latent = self.get_mean_style()\n",
    "            for style in styles:\n",
    "                style_t.append(truncation_latent + truncation *\n",
    "                               (style - truncation_latent))\n",
    "\n",
    "            styles = style_t\n",
    "\n",
    "        if len(styles) < 2:\n",
    "            inject_index = self.n_latent\n",
    "\n",
    "            if styles[0].ndim < 3:\n",
    "                latent = styles[0].unsqueeze(1).tile((1, inject_index, 1))\n",
    "\n",
    "            else:\n",
    "                latent = styles[0]\n",
    "\n",
    "        else:\n",
    "            if inject_index is None:\n",
    "                inject_index = random.randint(1, self.n_latent - 1)\n",
    "\n",
    "            latent = styles[0].unsqueeze(1).tile((1, inject_index, 1))\n",
    "            latent2 = styles[1].unsqueeze(1).tile(\n",
    "                (1, self.n_latent - inject_index, 1))\n",
    "\n",
    "            latent = paddle.concat([latent, latent2], 1)\n",
    "\n",
    "        out = self.input(latent)\n",
    "        out = self.conv1(out, latent[:, 0], noise=noise[0])\n",
    "\n",
    "        skip = self.to_rgb1(out, latent[:, 1])\n",
    "\n",
    "        i = 1\n",
    "        if self.is_concat:\n",
    "            noise_i = 1\n",
    "\n",
    "            outs = []\n",
    "            for conv1, conv2, to_rgb in zip(self.convs[::2], self.convs[1::2],\n",
    "                                            self.to_rgbs):\n",
    "                out = conv1(out, latent[:, i],\n",
    "                            noise=noise[(noise_i + 1) // 2])  ### 1 for 2\n",
    "                out = conv2(out,\n",
    "                            latent[:, i + 1],\n",
    "                            noise=noise[(noise_i + 2) // 2])  ### 1 for 2\n",
    "                skip = to_rgb(out, latent[:, i + 2], skip)\n",
    "\n",
    "                i += 2\n",
    "                noise_i += 2\n",
    "        else:\n",
    "            for conv1, conv2, noise1, noise2, to_rgb in zip(\n",
    "                    self.convs[::2], self.convs[1::2], noise[1::2], noise[2::2],\n",
    "                    self.to_rgbs):\n",
    "                out = conv1(out, latent[:, i], noise=noise1)\n",
    "                out = conv2(out, latent[:, i + 1], noise=noise2)\n",
    "                skip = to_rgb(out, latent[:, i + 2], skip)\n",
    "\n",
    "                i += 2\n",
    "\n",
    "        image = skip\n",
    "\n",
    "        if return_latents:\n",
    "            return image, latent\n",
    "\n",
    "        else:\n",
    "            return image, None"
   ]
  },
  {
   "cell_type": "markdown",
   "metadata": {},
   "source": [
    "#### 4.3 预览G网络（可选）"
   ]
  },
  {
   "cell_type": "code",
   "execution_count": null,
   "metadata": {
    "scrolled": true,
    "tags": []
   },
   "outputs": [],
   "source": [
    "G = Generator(256, 512, 8)\n",
    "print(G)"
   ]
  },
  {
   "cell_type": "markdown",
   "metadata": {},
   "source": [
    "### 五、StyleGAN2判别器"
   ]
  },
  {
   "cell_type": "markdown",
   "metadata": {},
   "source": [
    "#### 5.1 引入d_utils专用工具类\n",
    "引入Discriminator网络的专用依赖。D网络本质是分类器。"
   ]
  },
  {
   "cell_type": "code",
   "execution_count": 4,
   "metadata": {
    "execution": {
     "iopub.execute_input": "2022-09-15T13:53:35.864272Z",
     "iopub.status.busy": "2022-09-15T13:53:35.863598Z",
     "iopub.status.idle": "2022-09-15T13:53:35.869109Z",
     "shell.execute_reply": "2022-09-15T13:53:35.868424Z",
     "shell.execute_reply.started": "2022-09-15T13:53:35.864224Z"
    },
    "scrolled": true
   },
   "outputs": [],
   "source": [
    "from d_utils import ConvLayer, ResBlock"
   ]
  },
  {
   "cell_type": "markdown",
   "metadata": {},
   "source": [
    "#### 5.2 StyleGAN2的D网络"
   ]
  },
  {
   "cell_type": "code",
   "execution_count": 5,
   "metadata": {
    "execution": {
     "iopub.execute_input": "2022-09-15T13:53:38.137323Z",
     "iopub.status.busy": "2022-09-15T13:53:38.136678Z",
     "iopub.status.idle": "2022-09-15T13:53:38.150813Z",
     "shell.execute_reply": "2022-09-15T13:53:38.149988Z",
     "shell.execute_reply.started": "2022-09-15T13:53:38.137279Z"
    },
    "scrolled": true
   },
   "outputs": [],
   "source": [
    "class Discriminator(nn.Layer):\n",
    "\n",
    "    def __init__(self, size, channel_multiplier=2, blur_kernel=[1, 3, 3, 1]):\n",
    "        super().__init__()\n",
    "\n",
    "        channels = {\n",
    "            4: 512,\n",
    "            8: 512,\n",
    "            16: 512,\n",
    "            32: 512,\n",
    "            64: 256 * channel_multiplier,\n",
    "            128: 128 * channel_multiplier,\n",
    "            256: 64 * channel_multiplier,\n",
    "            512: 32 * channel_multiplier,\n",
    "            1024: 16 * channel_multiplier,\n",
    "        }\n",
    "\n",
    "        convs = [ConvLayer(3, channels[size], 1)]\n",
    "\n",
    "        log_size = int(math.log(size, 2))\n",
    "\n",
    "        in_channel = channels[size]\n",
    "\n",
    "        for i in range(log_size, 2, -1):\n",
    "            out_channel = channels[2**(i - 1)]\n",
    "\n",
    "            convs.append(ResBlock(in_channel, out_channel, blur_kernel))\n",
    "\n",
    "            in_channel = out_channel\n",
    "\n",
    "        self.convs = nn.Sequential(*convs)\n",
    "\n",
    "        self.stddev_group = 4\n",
    "        self.stddev_feat = 1\n",
    "\n",
    "        self.final_conv = ConvLayer(in_channel + 1, channels[4], 3)\n",
    "        self.final_linear = nn.Sequential(\n",
    "            EqualLinear(channels[4] * 4 * 4,\n",
    "                        channels[4],\n",
    "                        activation=\"fused_lrelu\"),\n",
    "            EqualLinear(channels[4], 1),\n",
    "        )\n",
    "\n",
    "    def forward(self, input):\n",
    "        out = self.convs(input)\n",
    "\n",
    "        batch, channel, height, width = out.shape\n",
    "        group = min(batch, self.stddev_group)\n",
    "        stddev = out.reshape((group, -1, self.stddev_feat,\n",
    "                              channel // self.stddev_feat, height, width))\n",
    "        stddev = paddle.sqrt(var(stddev, 0, unbiased=False) + 1e-8)\n",
    "        stddev = stddev.mean([2, 3, 4], keepdim=True).squeeze(2)\n",
    "        stddev = stddev.tile((group, 1, height, width))\n",
    "        out = paddle.concat([out, stddev], 1)\n",
    "\n",
    "        out = self.final_conv(out)\n",
    "\n",
    "        out = out.reshape((batch, -1))\n",
    "        out = self.final_linear(out)\n",
    "\n",
    "        return out\n",
    "\n",
    "# 这是飞桨框架的一个bug，据说要在v2.3中解决\n",
    "# temporally solve pow double grad problem\n",
    "def var(x, axis=None, unbiased=True, keepdim=False, name=None):\n",
    "\n",
    "    u = paddle.mean(x, axis, True, name)\n",
    "    out = paddle.sum((x - u) * (x - u), axis, keepdim=keepdim, name=name)\n",
    "\n",
    "    n = paddle.cast(paddle.numel(x), x.dtype) \\\n",
    "        / paddle.cast(paddle.numel(out), x.dtype)\n",
    "    if unbiased:\n",
    "        one_const = paddle.ones([1], x.dtype)\n",
    "        n = paddle.where(n > one_const, n - 1., one_const)\n",
    "    out /= n\n",
    "    return out"
   ]
  },
  {
   "cell_type": "markdown",
   "metadata": {},
   "source": [
    "#### 5.3 预览D网络（可选）"
   ]
  },
  {
   "cell_type": "code",
   "execution_count": null,
   "metadata": {
    "scrolled": true,
    "tags": []
   },
   "outputs": [],
   "source": [
    "D = Discriminator(256)\n",
    "print(D)"
   ]
  },
  {
   "cell_type": "markdown",
   "metadata": {},
   "source": [
    "### 六、 StyleGAN2模型定义"
   ]
  },
  {
   "cell_type": "code",
   "execution_count": null,
   "metadata": {
    "scrolled": true
   },
   "outputs": [],
   "source": [
    "GAN系列算法至少有两个子网D、G。<br/>\n",
    "为了便于理解，代码用StyleGanModel类把子网包起来，此书写方法适用所有GAN算法。<br/>\n",
    "这样train的代码就很清晰。<br/>\n",
    "StyleGAN2结合了一些最新的科研成果，因此比之前的GAN算法复杂，具体请看代码注释。<br/>"
   ]
  },
  {
   "cell_type": "code",
   "execution_count": 6,
   "metadata": {
    "execution": {
     "iopub.execute_input": "2022-09-15T13:53:42.911709Z",
     "iopub.status.busy": "2022-09-15T13:53:42.910964Z",
     "iopub.status.idle": "2022-09-15T13:53:42.932996Z",
     "shell.execute_reply": "2022-09-15T13:53:42.932300Z",
     "shell.execute_reply.started": "2022-09-15T13:53:42.911666Z"
    },
    "scrolled": true
   },
   "outputs": [],
   "source": [
    "import random\n",
    "import math\n",
    "import paddle\n",
    "import paddle.nn as nn\n",
    "import paddle.optimizer as optim\n",
    "import paddle.nn.functional as F\n",
    "\n",
    "class StyleGanModel(nn.Layer):\n",
    "    def __init__(self):\n",
    "        super(StyleGanModel, self).__init__()\n",
    "        # TODO 调参\n",
    "        lr = 0.0002\n",
    "        beta1=0.5\n",
    "        beta2=0.999\n",
    "        self.num_style_feat = 512\n",
    "        self.r1_reg_weight = 10\n",
    "        self.path_reg_weight = 2\n",
    "        self.mean_path_length = 0\n",
    "        self.netG = Generator(256, 512, 8)\n",
    "        self.netD = Discriminator(256)\n",
    "        self.g_optimizer = optim.Adam(parameters=self.netG.parameters(), learning_rate=lr, beta1=beta1, beta2=beta2)\n",
    "        self.d_optimizer = optim.Adam(parameters=self.netD.parameters(), learning_rate=lr, beta1=beta1, beta2=beta2)\n",
    "\n",
    "        # init EMA\n",
    "        self.netG_ema = Generator(256, 512, 8)\n",
    "        self.model_ema(0)\n",
    "\n",
    "        # 计数器\n",
    "        self.current_iter = 0\n",
    "\n",
    "    def forward(self, real_img):\n",
    "        '''\n",
    "            请对照《CGAN算法复现》refined.ipynb\n",
    "            https://aistudio.baidu.com/aistudio/projectdetail/4303742\n",
    "            注意： StyleGAN2不需要输入labels\n",
    "            注意： StyleGAN2的G、D网络都不需要输入condition\n",
    "            注意： StyleGAN2的Constant input 移入Generator中了\n",
    "            注意： D网络每16个迭代做一次正则（惩罚项目）\n",
    "            注意： G网络每4个迭代做一次正则（惩罚项目）\n",
    "        '''\n",
    "        self.current_iter = self.current_iter + 1\n",
    "        batch = real_img.shape[0]\n",
    "        # define noise input\n",
    "        noise = self.mixing_noise(batch, 0.9)\n",
    "\n",
    "        # Change Guass input to Constant input, move into Generator\n",
    "        # Generate fake_img\n",
    "        fake, _ = self.netG(noise)\n",
    "        # minimize D network by real_img + fake_img \n",
    "        self.d_optimizer.clear_grad()\n",
    "        p_real=self.netD(real_img)\n",
    "        p_fake=self.netD(fake.detach())\n",
    "        d_loss = self.d_logistic_loss(p_real, p_fake)\n",
    "        d_loss.backward()\n",
    "        self.d_optimizer.step()\n",
    "        # D network lazy regularization\n",
    "        self.d_lazy_reg(real_img)\n",
    "\n",
    "        # minimize G network\n",
    "        self.g_optimizer.clear_grad()\n",
    "        p_fake = self.netD(fake)\n",
    "        g_loss = self.g_logistic_loss(p_fake)\n",
    "        g_loss.backward()\n",
    "        self.g_optimizer.step()\n",
    "        # G network lazy regularization\n",
    "        self.g_lazy_reg(noise)\n",
    "\n",
    "        return d_loss,g_loss,fake  \n",
    "\n",
    "    def make_noise(self, batch, num_noise):\n",
    "        if num_noise == 1:\n",
    "            noises = paddle.randn([batch, self.num_style_feat])\n",
    "        else:\n",
    "            noises = []\n",
    "            for _ in range(num_noise):\n",
    "                noises.append(paddle.randn([batch, self.num_style_feat]))\n",
    "        return noises\n",
    "\n",
    "    def mixing_noise(self, batch, prob):\n",
    "        if random.random() < prob:\n",
    "            return self.make_noise(batch, 2)\n",
    "        else:\n",
    "            return [self.make_noise(batch, 1)]\n",
    "\n",
    "    def d_logistic_loss(self, p_real, p_fake):\n",
    "        real_loss = F.softplus(-p_real)\n",
    "        fake_loss = F.softplus(p_fake)\n",
    "\n",
    "        return real_loss.mean() + fake_loss.mean()\n",
    "\n",
    "    def g_logistic_loss(self, p_fake):\n",
    "        return F.softplus(-p_fake).mean()\n",
    "\n",
    "    def d_lazy_reg(self, real_img):\n",
    "        if self.current_iter % 16 == 0:\n",
    "            real_img.stop_gradient = False\n",
    "            p_real=self.netD(real_img)\n",
    "            d_r1_loss = self.r1_penalty(p_real, real_img)\n",
    "            self.d_optimizer.clear_grad()\n",
    "            (self.r1_reg_weight / 2 * d_r1_loss * 16 + 0 * p_real[0]).backward()\n",
    "            self.d_optimizer.step()\n",
    "\n",
    "    def g_lazy_reg(self, noise):\n",
    "        if self.current_iter % 4 == 0:\n",
    "            fake_img, latents = self.netG(noise, return_latents=True)\n",
    "            l_g_path, path_lengths, self.mean_path_length = self.g_path_regularize(\n",
    "                fake_img, latents, self.mean_path_length)\n",
    "\n",
    "            self.g_optimizer.clear_grad()\n",
    "            (self.path_reg_weight * 4 * l_g_path + 0 * fake_img[0, 0, 0, 0]).backward()\n",
    "            self.g_optimizer.step()\n",
    "\n",
    "    def r1_penalty(self, real_pred, real_img):\n",
    "        '''\n",
    "        StyleGAN论文中每个batch都有此惩罚项\n",
    "        StyleGAN2论文中每16个batch一次（lazy regularzation章节）\n",
    "        来自论文《Which training methods for GANs do actually converge》\n",
    "        '''\n",
    "        grad_real = paddle.grad(outputs=real_pred.sum(),\n",
    "                                inputs=real_img,\n",
    "                                create_graph=True)[0]\n",
    "        grad_penalty = (grad_real * grad_real).reshape([grad_real.shape[0],\n",
    "                                                        -1]).sum(1).mean()\n",
    "        return grad_penalty\n",
    "\n",
    "    def g_path_regularize(self, fake_img, latents, mean_path_length, decay=0.01):\n",
    "        noise = paddle.randn(fake_img.shape) / math.sqrt(\n",
    "            fake_img.shape[2] * fake_img.shape[3])\n",
    "        grad = paddle.grad(outputs=(fake_img * noise).sum(),\n",
    "                        inputs=latents,\n",
    "                        create_graph=True)[0]\n",
    "        path_lengths = paddle.sqrt((grad * grad).sum(2).mean(1))\n",
    "\n",
    "        path_mean = mean_path_length + decay * (path_lengths.mean() -\n",
    "                                                mean_path_length)\n",
    "\n",
    "        path_penalty = ((path_lengths - path_mean) *\n",
    "                        (path_lengths - path_mean)).mean()\n",
    "\n",
    "        return path_penalty, path_lengths.detach().mean(), path_mean.detach()\n",
    "\n",
    "    def model_ema(self, decay=0.999):\n",
    "        '''\n",
    "        EMA：跟股票中的移动平均线一样\n",
    "        '''\n",
    "        g_p = dict(self.netG.named_parameters())\n",
    "        ema_g_p = dict(self.netG_ema.named_parameters())\n",
    "        for k in ema_g_p.keys():\n",
    "            ema_g_p[k].set_value(ema_g_p[k] * (decay) + (g_p[k] * (1 - decay)))"
   ]
  },
  {
   "cell_type": "markdown",
   "metadata": {},
   "source": [
    "### 七、训练\n",
    "#### 7.1训练数据集类定义"
   ]
  },
  {
   "cell_type": "code",
   "execution_count": 7,
   "metadata": {
    "execution": {
     "iopub.execute_input": "2022-09-15T13:53:47.739761Z",
     "iopub.status.busy": "2022-09-15T13:53:47.739024Z",
     "iopub.status.idle": "2022-09-15T13:53:49.867794Z",
     "shell.execute_reply": "2022-09-15T13:53:49.866409Z",
     "shell.execute_reply.started": "2022-09-15T13:53:47.739720Z"
    },
    "scrolled": true,
    "tags": []
   },
   "outputs": [
    {
     "name": "stdout",
     "output_type": "stream",
     "text": [
      "Looking in indexes: https://pypi.tuna.tsinghua.edu.cn/simple\r\n",
      "Requirement already satisfied: scikit-image in /opt/conda/envs/python35-paddle120-env/lib/python3.7/site-packages (0.19.3)\r\n",
      "Requirement already satisfied: scipy>=1.4.1 in /opt/conda/envs/python35-paddle120-env/lib/python3.7/site-packages (from scikit-image) (1.6.3)\r\n",
      "Requirement already satisfied: PyWavelets>=1.1.1 in /opt/conda/envs/python35-paddle120-env/lib/python3.7/site-packages (from scikit-image) (1.3.0)\r\n",
      "Requirement already satisfied: networkx>=2.2 in /opt/conda/envs/python35-paddle120-env/lib/python3.7/site-packages (from scikit-image) (2.4)\r\n",
      "Requirement already satisfied: pillow!=7.1.0,!=7.1.1,!=8.3.0,>=6.1.0 in /opt/conda/envs/python35-paddle120-env/lib/python3.7/site-packages (from scikit-image) (8.2.0)\r\n",
      "Requirement already satisfied: numpy>=1.17.0 in /opt/conda/envs/python35-paddle120-env/lib/python3.7/site-packages (from scikit-image) (1.19.5)\r\n",
      "Requirement already satisfied: packaging>=20.0 in /opt/conda/envs/python35-paddle120-env/lib/python3.7/site-packages (from scikit-image) (21.3)\r\n",
      "Requirement already satisfied: tifffile>=2019.7.26 in /opt/conda/envs/python35-paddle120-env/lib/python3.7/site-packages (from scikit-image) (2021.11.2)\r\n",
      "Requirement already satisfied: imageio>=2.4.1 in /opt/conda/envs/python35-paddle120-env/lib/python3.7/site-packages (from scikit-image) (2.6.1)\r\n",
      "Requirement already satisfied: decorator>=4.3.0 in /opt/conda/envs/python35-paddle120-env/lib/python3.7/site-packages (from networkx>=2.2->scikit-image) (4.4.2)\r\n",
      "Requirement already satisfied: pyparsing!=3.0.5,>=2.0.2 in /opt/conda/envs/python35-paddle120-env/lib/python3.7/site-packages (from packaging>=20.0->scikit-image) (3.0.9)\r\n",
      "\r\n",
      "\u001b[1m[\u001b[0m\u001b[34;49mnotice\u001b[0m\u001b[1;39;49m]\u001b[0m\u001b[39;49m A new release of pip available: \u001b[0m\u001b[31;49m22.1.2\u001b[0m\u001b[39;49m -> \u001b[0m\u001b[32;49m22.2.2\u001b[0m\r\n",
      "\u001b[1m[\u001b[0m\u001b[34;49mnotice\u001b[0m\u001b[1;39;49m]\u001b[0m\u001b[39;49m To update, run: \u001b[0m\u001b[32;49mpip install --upgrade pip\u001b[0m\r\n"
     ]
    }
   ],
   "source": [
    "!pip install scikit-image"
   ]
  },
  {
   "cell_type": "code",
   "execution_count": 8,
   "metadata": {
    "execution": {
     "iopub.execute_input": "2022-09-15T13:53:53.525808Z",
     "iopub.status.busy": "2022-09-15T13:53:53.525141Z",
     "iopub.status.idle": "2022-09-15T13:53:54.025568Z",
     "shell.execute_reply": "2022-09-15T13:53:54.024424Z",
     "shell.execute_reply.started": "2022-09-15T13:53:53.525765Z"
    },
    "scrolled": true
   },
   "outputs": [
    {
     "name": "stderr",
     "output_type": "stream",
     "text": [
      "/opt/conda/envs/python35-paddle120-env/lib/python3.7/site-packages/matplotlib/__init__.py:107: DeprecationWarning: Using or importing the ABCs from 'collections' instead of from 'collections.abc' is deprecated, and in 3.8 it will stop working\r\n",
      "  from collections import MutableMapping\r\n",
      "/opt/conda/envs/python35-paddle120-env/lib/python3.7/site-packages/matplotlib/rcsetup.py:20: DeprecationWarning: Using or importing the ABCs from 'collections' instead of from 'collections.abc' is deprecated, and in 3.8 it will stop working\r\n",
      "  from collections import Iterable, Mapping\r\n",
      "/opt/conda/envs/python35-paddle120-env/lib/python3.7/site-packages/matplotlib/colors.py:53: DeprecationWarning: Using or importing the ABCs from 'collections' instead of from 'collections.abc' is deprecated, and in 3.8 it will stop working\r\n",
      "  from collections import Sized\r\n"
     ]
    }
   ],
   "source": [
    "from ffhq_dataset import MyDataSet\n",
    "\n",
    "batch=16\n",
    "train_dataset = MyDataSet()\n",
    "train_loader = paddle.io.DataLoader(train_dataset, batch_size=batch, shuffle=True,num_workers=2,drop_last=True)"
   ]
  },
  {
   "cell_type": "markdown",
   "metadata": {},
   "source": [
    "#### 预览训练数据函数"
   ]
  },
  {
   "cell_type": "code",
   "execution_count": 9,
   "metadata": {
    "execution": {
     "iopub.execute_input": "2022-09-15T13:53:59.800776Z",
     "iopub.status.busy": "2022-09-15T13:53:59.799359Z",
     "iopub.status.idle": "2022-09-15T13:53:59.849623Z",
     "shell.execute_reply": "2022-09-15T13:53:59.848500Z",
     "shell.execute_reply.started": "2022-09-15T13:53:59.800730Z"
    },
    "scrolled": true
   },
   "outputs": [],
   "source": [
    "import matplotlib.pyplot as plt\n",
    "%matplotlib inline\n",
    "output_path='work'\n",
    "def show_image_grid(fake, epoch_id):\n",
    "    # 每轮的生成结果\n",
    "    generated_image = fake.numpy()\n",
    "    plt.figure(figsize=(26,26))\n",
    "    try:\n",
    "        for i in range(10):\n",
    "            image = generated_image[i].transpose()\n",
    "            image = np.clip(image, 0, 1)\n",
    "            plt.subplot(10, 10, i + 1)\n",
    "            plt.imshow(image.astype('uint8'), vmin=-1, vmax=1)\n",
    "            plt.axis('off')\n",
    "            plt.xticks([])\n",
    "            plt.yticks([])\n",
    "            plt.subplots_adjust(wspace=0.1, hspace=0.1)\n",
    "        msg = 'Epoch ID={0} Batch ID={1} \\n\\n D-Loss={2} G-Loss={3}'.format(epoch_id, batch_id, d_loss.numpy()[0], g_loss.numpy()[0])\n",
    "        plt.suptitle(msg,fontsize=20)\n",
    "        plt.show()\n",
    "        # plt.draw()\n",
    "        # plt.savefig('{}/{:04d}_{:04d}.png'.format(output_path, epoch_id, batch_id),bbox_inches='tight')\n",
    "        plt.close()\n",
    "    except IOError:\n",
    "        print(IOError)"
   ]
  },
  {
   "cell_type": "markdown",
   "metadata": {},
   "source": [
    "#### 执行训练"
   ]
  },
  {
   "cell_type": "code",
   "execution_count": 11,
   "metadata": {
    "execution": {
     "iopub.execute_input": "2022-09-15T13:46:07.732863Z",
     "iopub.status.busy": "2022-09-15T13:46:07.732059Z",
     "iopub.status.idle": "2022-09-15T13:52:52.699498Z",
     "shell.execute_reply": "2022-09-15T13:52:52.697717Z",
     "shell.execute_reply.started": "2022-09-15T13:46:07.732818Z"
    },
    "scrolled": true,
    "tags": []
   },
   "outputs": [
    {
     "name": "stderr",
     "output_type": "stream",
     "text": [
      "W0915 21:46:07.736582 12656 gpu_resources.cc:61] Please NOTE: device: 0, GPU Compute Capability: 7.0, Driver API Version: 11.2, Runtime API Version: 11.2\r\n",
      "W0915 21:46:07.741622 12656 gpu_resources.cc:91] device: 0, cuDNN Version: 8.2.\r\n"
     ]
    },
    {
     "name": "stdout",
     "output_type": "stream",
     "text": [
      "train...\r\n",
      "epoch = 0 , d_loss = [0.05909483] , g_loss = [4.6601195]\r\n"
     ]
    },
    {
     "name": "stderr",
     "output_type": "stream",
     "text": [
      "/opt/conda/envs/python35-paddle120-env/lib/python3.7/site-packages/matplotlib/cbook/__init__.py:2349: DeprecationWarning: Using or importing the ABCs from 'collections' instead of from 'collections.abc' is deprecated, and in 3.8 it will stop working\r\n",
      "  if isinstance(obj, collections.Iterator):\r\n",
      "/opt/conda/envs/python35-paddle120-env/lib/python3.7/site-packages/matplotlib/cbook/__init__.py:2366: DeprecationWarning: Using or importing the ABCs from 'collections' instead of from 'collections.abc' is deprecated, and in 3.8 it will stop working\r\n",
      "  return list(data) if isinstance(data, collections.MappingView) else data\r\n",
      "/opt/conda/envs/python35-paddle120-env/lib/python3.7/site-packages/matplotlib/colors.py:101: DeprecationWarning: np.asscalar(a) is deprecated since NumPy v1.16, use a.item() instead\r\n",
      "  ret = np.asscalar(ex)\r\n"
     ]
    },
    {
     "data": {
      "image/png": "[encoded data removed]",
      "text/plain": [
       "<Figure size 2600x2600 with 10 Axes>"
      ]
     },
     "metadata": {},
     "output_type": "display_data"
    },
    {
     "ename": "KeyboardInterrupt",
     "evalue": "",
     "output_type": "error",
     "traceback": [
      "\u001b[0;31m---------------------------------------------------------------------------\u001b[0m",
      "\u001b[0;31mKeyboardInterrupt\u001b[0m                         Traceback (most recent call last)",
      "\u001b[0;32m/tmp/ipykernel_12656/1093317062.py\u001b[0m in \u001b[0;36m<module>\u001b[0;34m\u001b[0m\n\u001b[1;32m      6\u001b[0m     \u001b[0;32mfor\u001b[0m \u001b[0mbatch_id\u001b[0m\u001b[0;34m,\u001b[0m \u001b[0mdata\u001b[0m \u001b[0;32min\u001b[0m \u001b[0menumerate\u001b[0m\u001b[0;34m(\u001b[0m\u001b[0mtrain_loader\u001b[0m\u001b[0;34m(\u001b[0m\u001b[0;34m)\u001b[0m\u001b[0;34m)\u001b[0m\u001b[0;34m:\u001b[0m\u001b[0;34m\u001b[0m\u001b[0;34m\u001b[0m\u001b[0m\n\u001b[1;32m      7\u001b[0m         \u001b[0mimages\u001b[0m \u001b[0;34m=\u001b[0m \u001b[0mdata\u001b[0m\u001b[0;34m[\u001b[0m\u001b[0;36m0\u001b[0m\u001b[0;34m]\u001b[0m\u001b[0;34m\u001b[0m\u001b[0;34m\u001b[0m\u001b[0m\n\u001b[0;32m----> 8\u001b[0;31m         \u001b[0md_loss\u001b[0m\u001b[0;34m,\u001b[0m \u001b[0mg_loss\u001b[0m\u001b[0;34m,\u001b[0m \u001b[0mfake\u001b[0m \u001b[0;34m=\u001b[0m \u001b[0mstylegan\u001b[0m\u001b[0;34m(\u001b[0m\u001b[0mimages\u001b[0m\u001b[0;34m)\u001b[0m\u001b[0;34m\u001b[0m\u001b[0;34m\u001b[0m\u001b[0m\n\u001b[0m\u001b[1;32m      9\u001b[0m     \u001b[0;32mif\u001b[0m \u001b[0mepoch\u001b[0m \u001b[0;34m%\u001b[0m \u001b[0;36m5\u001b[0m \u001b[0;34m==\u001b[0m \u001b[0;36m0\u001b[0m \u001b[0;32mor\u001b[0m \u001b[0mepoch\u001b[0m \u001b[0;34m==\u001b[0m \u001b[0;34m(\u001b[0m\u001b[0mepoches\u001b[0m \u001b[0;34m-\u001b[0m \u001b[0;36m1\u001b[0m \u001b[0;34m)\u001b[0m\u001b[0;34m:\u001b[0m\u001b[0;34m\u001b[0m\u001b[0;34m\u001b[0m\u001b[0m\n\u001b[1;32m     10\u001b[0m         \u001b[0mprint\u001b[0m\u001b[0;34m(\u001b[0m\u001b[0;34m'epoch ='\u001b[0m\u001b[0;34m,\u001b[0m \u001b[0mepoch\u001b[0m\u001b[0;34m,\u001b[0m \u001b[0;34m', d_loss ='\u001b[0m\u001b[0;34m,\u001b[0m \u001b[0md_loss\u001b[0m\u001b[0;34m.\u001b[0m\u001b[0mnumpy\u001b[0m\u001b[0;34m(\u001b[0m\u001b[0;34m)\u001b[0m\u001b[0;34m,\u001b[0m \u001b[0;34m', g_loss ='\u001b[0m\u001b[0;34m,\u001b[0m \u001b[0mg_loss\u001b[0m\u001b[0;34m.\u001b[0m\u001b[0mnumpy\u001b[0m\u001b[0;34m(\u001b[0m\u001b[0;34m)\u001b[0m\u001b[0;34m)\u001b[0m\u001b[0;34m\u001b[0m\u001b[0;34m\u001b[0m\u001b[0m\n",
      "\u001b[0;32m/opt/conda/envs/python35-paddle120-env/lib/python3.7/site-packages/paddle/fluid/dygraph/layers.py\u001b[0m in \u001b[0;36m__call__\u001b[0;34m(self, *inputs, **kwargs)\u001b[0m\n\u001b[1;32m    928\u001b[0m             \u001b[0;32mreturn\u001b[0m \u001b[0mself\u001b[0m\u001b[0;34m.\u001b[0m\u001b[0mforward\u001b[0m\u001b[0;34m(\u001b[0m\u001b[0;34m*\u001b[0m\u001b[0minputs\u001b[0m\u001b[0;34m,\u001b[0m \u001b[0;34m**\u001b[0m\u001b[0mkwargs\u001b[0m\u001b[0;34m)\u001b[0m\u001b[0;34m\u001b[0m\u001b[0;34m\u001b[0m\u001b[0m\n\u001b[1;32m    929\u001b[0m         \u001b[0;32melse\u001b[0m\u001b[0;34m:\u001b[0m\u001b[0;34m\u001b[0m\u001b[0;34m\u001b[0m\u001b[0m\n\u001b[0;32m--> 930\u001b[0;31m             \u001b[0;32mreturn\u001b[0m \u001b[0mself\u001b[0m\u001b[0;34m.\u001b[0m\u001b[0m_dygraph_call_func\u001b[0m\u001b[0;34m(\u001b[0m\u001b[0;34m*\u001b[0m\u001b[0minputs\u001b[0m\u001b[0;34m,\u001b[0m \u001b[0;34m**\u001b[0m\u001b[0mkwargs\u001b[0m\u001b[0;34m)\u001b[0m\u001b[0;34m\u001b[0m\u001b[0;34m\u001b[0m\u001b[0m\n\u001b[0m\u001b[1;32m    931\u001b[0m \u001b[0;34m\u001b[0m\u001b[0m\n\u001b[1;32m    932\u001b[0m     \u001b[0;32mdef\u001b[0m \u001b[0mforward\u001b[0m\u001b[0;34m(\u001b[0m\u001b[0mself\u001b[0m\u001b[0;34m,\u001b[0m \u001b[0;34m*\u001b[0m\u001b[0minputs\u001b[0m\u001b[0;34m,\u001b[0m \u001b[0;34m**\u001b[0m\u001b[0mkwargs\u001b[0m\u001b[0;34m)\u001b[0m\u001b[0;34m:\u001b[0m\u001b[0;34m\u001b[0m\u001b[0;34m\u001b[0m\u001b[0m\n",
      "\u001b[0;32m/opt/conda/envs/python35-paddle120-env/lib/python3.7/site-packages/paddle/fluid/dygraph/layers.py\u001b[0m in \u001b[0;36m_dygraph_call_func\u001b[0;34m(self, *inputs, **kwargs)\u001b[0m\n\u001b[1;32m    913\u001b[0m                 \u001b[0moutputs\u001b[0m \u001b[0;34m=\u001b[0m \u001b[0mself\u001b[0m\u001b[0;34m.\u001b[0m\u001b[0mforward\u001b[0m\u001b[0;34m(\u001b[0m\u001b[0;34m*\u001b[0m\u001b[0minputs\u001b[0m\u001b[0;34m,\u001b[0m \u001b[0;34m**\u001b[0m\u001b[0mkwargs\u001b[0m\u001b[0;34m)\u001b[0m\u001b[0;34m\u001b[0m\u001b[0;34m\u001b[0m\u001b[0m\n\u001b[1;32m    914\u001b[0m         \u001b[0;32melse\u001b[0m\u001b[0;34m:\u001b[0m\u001b[0;34m\u001b[0m\u001b[0;34m\u001b[0m\u001b[0m\n\u001b[0;32m--> 915\u001b[0;31m             \u001b[0moutputs\u001b[0m \u001b[0;34m=\u001b[0m \u001b[0mself\u001b[0m\u001b[0;34m.\u001b[0m\u001b[0mforward\u001b[0m\u001b[0;34m(\u001b[0m\u001b[0;34m*\u001b[0m\u001b[0minputs\u001b[0m\u001b[0;34m,\u001b[0m \u001b[0;34m**\u001b[0m\u001b[0mkwargs\u001b[0m\u001b[0;34m)\u001b[0m\u001b[0;34m\u001b[0m\u001b[0;34m\u001b[0m\u001b[0m\n\u001b[0m\u001b[1;32m    916\u001b[0m \u001b[0;34m\u001b[0m\u001b[0m\n\u001b[1;32m    917\u001b[0m         \u001b[0;32mfor\u001b[0m \u001b[0mforward_post_hook\u001b[0m \u001b[0;32min\u001b[0m \u001b[0mself\u001b[0m\u001b[0;34m.\u001b[0m\u001b[0m_forward_post_hooks\u001b[0m\u001b[0;34m.\u001b[0m\u001b[0mvalues\u001b[0m\u001b[0;34m(\u001b[0m\u001b[0;34m)\u001b[0m\u001b[0;34m:\u001b[0m\u001b[0;34m\u001b[0m\u001b[0;34m\u001b[0m\u001b[0m\n",
      "\u001b[0;32m/tmp/ipykernel_12656/1016559606.py\u001b[0m in \u001b[0;36mforward\u001b[0;34m(self, real_img)\u001b[0m\n\u001b[1;32m     49\u001b[0m         \u001b[0;31m# minimize D network by real_img + fake_img\u001b[0m\u001b[0;34m\u001b[0m\u001b[0;34m\u001b[0m\u001b[0;34m\u001b[0m\u001b[0m\n\u001b[1;32m     50\u001b[0m         \u001b[0mself\u001b[0m\u001b[0;34m.\u001b[0m\u001b[0md_optimizer\u001b[0m\u001b[0;34m.\u001b[0m\u001b[0mclear_grad\u001b[0m\u001b[0;34m(\u001b[0m\u001b[0;34m)\u001b[0m\u001b[0;34m\u001b[0m\u001b[0;34m\u001b[0m\u001b[0m\n\u001b[0;32m---> 51\u001b[0;31m         \u001b[0mp_real\u001b[0m\u001b[0;34m=\u001b[0m\u001b[0mself\u001b[0m\u001b[0;34m.\u001b[0m\u001b[0mnetD\u001b[0m\u001b[0;34m(\u001b[0m\u001b[0mreal_img\u001b[0m\u001b[0;34m)\u001b[0m\u001b[0;34m\u001b[0m\u001b[0;34m\u001b[0m\u001b[0m\n\u001b[0m\u001b[1;32m     52\u001b[0m         \u001b[0mp_fake\u001b[0m\u001b[0;34m=\u001b[0m\u001b[0mself\u001b[0m\u001b[0;34m.\u001b[0m\u001b[0mnetD\u001b[0m\u001b[0;34m(\u001b[0m\u001b[0mfake\u001b[0m\u001b[0;34m.\u001b[0m\u001b[0mdetach\u001b[0m\u001b[0;34m(\u001b[0m\u001b[0;34m)\u001b[0m\u001b[0;34m)\u001b[0m\u001b[0;34m\u001b[0m\u001b[0;34m\u001b[0m\u001b[0m\n\u001b[1;32m     53\u001b[0m         \u001b[0md_loss\u001b[0m \u001b[0;34m=\u001b[0m \u001b[0mself\u001b[0m\u001b[0;34m.\u001b[0m\u001b[0md_logistic_loss\u001b[0m\u001b[0;34m(\u001b[0m\u001b[0mp_real\u001b[0m\u001b[0;34m,\u001b[0m \u001b[0mp_fake\u001b[0m\u001b[0;34m)\u001b[0m\u001b[0;34m\u001b[0m\u001b[0;34m\u001b[0m\u001b[0m\n",
      "\u001b[0;32m/opt/conda/envs/python35-paddle120-env/lib/python3.7/site-packages/paddle/fluid/dygraph/layers.py\u001b[0m in \u001b[0;36m__call__\u001b[0;34m(self, *inputs, **kwargs)\u001b[0m\n\u001b[1;32m    928\u001b[0m             \u001b[0;32mreturn\u001b[0m \u001b[0mself\u001b[0m\u001b[0;34m.\u001b[0m\u001b[0mforward\u001b[0m\u001b[0;34m(\u001b[0m\u001b[0;34m*\u001b[0m\u001b[0minputs\u001b[0m\u001b[0;34m,\u001b[0m \u001b[0;34m**\u001b[0m\u001b[0mkwargs\u001b[0m\u001b[0;34m)\u001b[0m\u001b[0;34m\u001b[0m\u001b[0;34m\u001b[0m\u001b[0m\n\u001b[1;32m    929\u001b[0m         \u001b[0;32melse\u001b[0m\u001b[0;34m:\u001b[0m\u001b[0;34m\u001b[0m\u001b[0;34m\u001b[0m\u001b[0m\n\u001b[0;32m--> 930\u001b[0;31m             \u001b[0;32mreturn\u001b[0m \u001b[0mself\u001b[0m\u001b[0;34m.\u001b[0m\u001b[0m_dygraph_call_func\u001b[0m\u001b[0;34m(\u001b[0m\u001b[0;34m*\u001b[0m\u001b[0minputs\u001b[0m\u001b[0;34m,\u001b[0m \u001b[0;34m**\u001b[0m\u001b[0mkwargs\u001b[0m\u001b[0;34m)\u001b[0m\u001b[0;34m\u001b[0m\u001b[0;34m\u001b[0m\u001b[0m\n\u001b[0m\u001b[1;32m    931\u001b[0m \u001b[0;34m\u001b[0m\u001b[0m\n\u001b[1;32m    932\u001b[0m     \u001b[0;32mdef\u001b[0m \u001b[0mforward\u001b[0m\u001b[0;34m(\u001b[0m\u001b[0mself\u001b[0m\u001b[0;34m,\u001b[0m \u001b[0;34m*\u001b[0m\u001b[0minputs\u001b[0m\u001b[0;34m,\u001b[0m \u001b[0;34m**\u001b[0m\u001b[0mkwargs\u001b[0m\u001b[0;34m)\u001b[0m\u001b[0;34m:\u001b[0m\u001b[0;34m\u001b[0m\u001b[0;34m\u001b[0m\u001b[0m\n",
      "\u001b[0;32m/opt/conda/envs/python35-paddle120-env/lib/python3.7/site-packages/paddle/fluid/dygraph/layers.py\u001b[0m in \u001b[0;36m_dygraph_call_func\u001b[0;34m(self, *inputs, **kwargs)\u001b[0m\n\u001b[1;32m    913\u001b[0m                 \u001b[0moutputs\u001b[0m \u001b[0;34m=\u001b[0m \u001b[0mself\u001b[0m\u001b[0;34m.\u001b[0m\u001b[0mforward\u001b[0m\u001b[0;34m(\u001b[0m\u001b[0;34m*\u001b[0m\u001b[0minputs\u001b[0m\u001b[0;34m,\u001b[0m \u001b[0;34m**\u001b[0m\u001b[0mkwargs\u001b[0m\u001b[0;34m)\u001b[0m\u001b[0;34m\u001b[0m\u001b[0;34m\u001b[0m\u001b[0m\n\u001b[1;32m    914\u001b[0m         \u001b[0;32melse\u001b[0m\u001b[0;34m:\u001b[0m\u001b[0;34m\u001b[0m\u001b[0;34m\u001b[0m\u001b[0m\n\u001b[0;32m--> 915\u001b[0;31m             \u001b[0moutputs\u001b[0m \u001b[0;34m=\u001b[0m \u001b[0mself\u001b[0m\u001b[0;34m.\u001b[0m\u001b[0mforward\u001b[0m\u001b[0;34m(\u001b[0m\u001b[0;34m*\u001b[0m\u001b[0minputs\u001b[0m\u001b[0;34m,\u001b[0m \u001b[0;34m**\u001b[0m\u001b[0mkwargs\u001b[0m\u001b[0;34m)\u001b[0m\u001b[0;34m\u001b[0m\u001b[0;34m\u001b[0m\u001b[0m\n\u001b[0m\u001b[1;32m    916\u001b[0m \u001b[0;34m\u001b[0m\u001b[0m\n\u001b[1;32m    917\u001b[0m         \u001b[0;32mfor\u001b[0m \u001b[0mforward_post_hook\u001b[0m \u001b[0;32min\u001b[0m \u001b[0mself\u001b[0m\u001b[0;34m.\u001b[0m\u001b[0m_forward_post_hooks\u001b[0m\u001b[0;34m.\u001b[0m\u001b[0mvalues\u001b[0m\u001b[0;34m(\u001b[0m\u001b[0;34m)\u001b[0m\u001b[0;34m:\u001b[0m\u001b[0;34m\u001b[0m\u001b[0;34m\u001b[0m\u001b[0m\n",
      "\u001b[0;32m/tmp/ipykernel_12656/1290808285.py\u001b[0m in \u001b[0;36mforward\u001b[0;34m(self, input)\u001b[0m\n\u001b[1;32m     43\u001b[0m \u001b[0;34m\u001b[0m\u001b[0m\n\u001b[1;32m     44\u001b[0m     \u001b[0;32mdef\u001b[0m \u001b[0mforward\u001b[0m\u001b[0;34m(\u001b[0m\u001b[0mself\u001b[0m\u001b[0;34m,\u001b[0m \u001b[0minput\u001b[0m\u001b[0;34m)\u001b[0m\u001b[0;34m:\u001b[0m\u001b[0;34m\u001b[0m\u001b[0;34m\u001b[0m\u001b[0m\n\u001b[0;32m---> 45\u001b[0;31m         \u001b[0mout\u001b[0m \u001b[0;34m=\u001b[0m \u001b[0mself\u001b[0m\u001b[0;34m.\u001b[0m\u001b[0mconvs\u001b[0m\u001b[0;34m(\u001b[0m\u001b[0minput\u001b[0m\u001b[0;34m)\u001b[0m\u001b[0;34m\u001b[0m\u001b[0;34m\u001b[0m\u001b[0m\n\u001b[0m\u001b[1;32m     46\u001b[0m \u001b[0;34m\u001b[0m\u001b[0m\n\u001b[1;32m     47\u001b[0m         \u001b[0mbatch\u001b[0m\u001b[0;34m,\u001b[0m \u001b[0mchannel\u001b[0m\u001b[0;34m,\u001b[0m \u001b[0mheight\u001b[0m\u001b[0;34m,\u001b[0m \u001b[0mwidth\u001b[0m \u001b[0;34m=\u001b[0m \u001b[0mout\u001b[0m\u001b[0;34m.\u001b[0m\u001b[0mshape\u001b[0m\u001b[0;34m\u001b[0m\u001b[0;34m\u001b[0m\u001b[0m\n",
      "\u001b[0;32m/opt/conda/envs/python35-paddle120-env/lib/python3.7/site-packages/paddle/fluid/dygraph/layers.py\u001b[0m in \u001b[0;36m__call__\u001b[0;34m(self, *inputs, **kwargs)\u001b[0m\n\u001b[1;32m    928\u001b[0m             \u001b[0;32mreturn\u001b[0m \u001b[0mself\u001b[0m\u001b[0;34m.\u001b[0m\u001b[0mforward\u001b[0m\u001b[0;34m(\u001b[0m\u001b[0;34m*\u001b[0m\u001b[0minputs\u001b[0m\u001b[0;34m,\u001b[0m \u001b[0;34m**\u001b[0m\u001b[0mkwargs\u001b[0m\u001b[0;34m)\u001b[0m\u001b[0;34m\u001b[0m\u001b[0;34m\u001b[0m\u001b[0m\n\u001b[1;32m    929\u001b[0m         \u001b[0;32melse\u001b[0m\u001b[0;34m:\u001b[0m\u001b[0;34m\u001b[0m\u001b[0;34m\u001b[0m\u001b[0m\n\u001b[0;32m--> 930\u001b[0;31m             \u001b[0;32mreturn\u001b[0m \u001b[0mself\u001b[0m\u001b[0;34m.\u001b[0m\u001b[0m_dygraph_call_func\u001b[0m\u001b[0;34m(\u001b[0m\u001b[0;34m*\u001b[0m\u001b[0minputs\u001b[0m\u001b[0;34m,\u001b[0m \u001b[0;34m**\u001b[0m\u001b[0mkwargs\u001b[0m\u001b[0;34m)\u001b[0m\u001b[0;34m\u001b[0m\u001b[0;34m\u001b[0m\u001b[0m\n\u001b[0m\u001b[1;32m    931\u001b[0m \u001b[0;34m\u001b[0m\u001b[0m\n\u001b[1;32m    932\u001b[0m     \u001b[0;32mdef\u001b[0m \u001b[0mforward\u001b[0m\u001b[0;34m(\u001b[0m\u001b[0mself\u001b[0m\u001b[0;34m,\u001b[0m \u001b[0;34m*\u001b[0m\u001b[0minputs\u001b[0m\u001b[0;34m,\u001b[0m \u001b[0;34m**\u001b[0m\u001b[0mkwargs\u001b[0m\u001b[0;34m)\u001b[0m\u001b[0;34m:\u001b[0m\u001b[0;34m\u001b[0m\u001b[0;34m\u001b[0m\u001b[0m\n",
      "\u001b[0;32m/opt/conda/envs/python35-paddle120-env/lib/python3.7/site-packages/paddle/fluid/dygraph/layers.py\u001b[0m in \u001b[0;36m_dygraph_call_func\u001b[0;34m(self, *inputs, **kwargs)\u001b[0m\n\u001b[1;32m    913\u001b[0m                 \u001b[0moutputs\u001b[0m \u001b[0;34m=\u001b[0m \u001b[0mself\u001b[0m\u001b[0;34m.\u001b[0m\u001b[0mforward\u001b[0m\u001b[0;34m(\u001b[0m\u001b[0;34m*\u001b[0m\u001b[0minputs\u001b[0m\u001b[0;34m,\u001b[0m \u001b[0;34m**\u001b[0m\u001b[0mkwargs\u001b[0m\u001b[0;34m)\u001b[0m\u001b[0;34m\u001b[0m\u001b[0;34m\u001b[0m\u001b[0m\n\u001b[1;32m    914\u001b[0m         \u001b[0;32melse\u001b[0m\u001b[0;34m:\u001b[0m\u001b[0;34m\u001b[0m\u001b[0;34m\u001b[0m\u001b[0m\n\u001b[0;32m--> 915\u001b[0;31m             \u001b[0moutputs\u001b[0m \u001b[0;34m=\u001b[0m \u001b[0mself\u001b[0m\u001b[0;34m.\u001b[0m\u001b[0mforward\u001b[0m\u001b[0;34m(\u001b[0m\u001b[0;34m*\u001b[0m\u001b[0minputs\u001b[0m\u001b[0;34m,\u001b[0m \u001b[0;34m**\u001b[0m\u001b[0mkwargs\u001b[0m\u001b[0;34m)\u001b[0m\u001b[0;34m\u001b[0m\u001b[0;34m\u001b[0m\u001b[0m\n\u001b[0m\u001b[1;32m    916\u001b[0m \u001b[0;34m\u001b[0m\u001b[0m\n\u001b[1;32m    917\u001b[0m         \u001b[0;32mfor\u001b[0m \u001b[0mforward_post_hook\u001b[0m \u001b[0;32min\u001b[0m \u001b[0mself\u001b[0m\u001b[0;34m.\u001b[0m\u001b[0m_forward_post_hooks\u001b[0m\u001b[0;34m.\u001b[0m\u001b[0mvalues\u001b[0m\u001b[0;34m(\u001b[0m\u001b[0;34m)\u001b[0m\u001b[0;34m:\u001b[0m\u001b[0;34m\u001b[0m\u001b[0;34m\u001b[0m\u001b[0m\n",
      "\u001b[0;32m/opt/conda/envs/python35-paddle120-env/lib/python3.7/site-packages/paddle/fluid/dygraph/container.py\u001b[0m in \u001b[0;36mforward\u001b[0;34m(self, input)\u001b[0m\n\u001b[1;32m     96\u001b[0m     \u001b[0;32mdef\u001b[0m \u001b[0mforward\u001b[0m\u001b[0;34m(\u001b[0m\u001b[0mself\u001b[0m\u001b[0;34m,\u001b[0m \u001b[0minput\u001b[0m\u001b[0;34m)\u001b[0m\u001b[0;34m:\u001b[0m\u001b[0;34m\u001b[0m\u001b[0;34m\u001b[0m\u001b[0m\n\u001b[1;32m     97\u001b[0m         \u001b[0;32mfor\u001b[0m \u001b[0mlayer\u001b[0m \u001b[0;32min\u001b[0m \u001b[0mself\u001b[0m\u001b[0;34m.\u001b[0m\u001b[0m_sub_layers\u001b[0m\u001b[0;34m.\u001b[0m\u001b[0mvalues\u001b[0m\u001b[0;34m(\u001b[0m\u001b[0;34m)\u001b[0m\u001b[0;34m:\u001b[0m\u001b[0;34m\u001b[0m\u001b[0;34m\u001b[0m\u001b[0m\n\u001b[0;32m---> 98\u001b[0;31m             \u001b[0minput\u001b[0m \u001b[0;34m=\u001b[0m \u001b[0mlayer\u001b[0m\u001b[0;34m(\u001b[0m\u001b[0minput\u001b[0m\u001b[0;34m)\u001b[0m\u001b[0;34m\u001b[0m\u001b[0;34m\u001b[0m\u001b[0m\n\u001b[0m\u001b[1;32m     99\u001b[0m         \u001b[0;32mreturn\u001b[0m \u001b[0minput\u001b[0m\u001b[0;34m\u001b[0m\u001b[0;34m\u001b[0m\u001b[0m\n\u001b[1;32m    100\u001b[0m \u001b[0;34m\u001b[0m\u001b[0m\n",
      "\u001b[0;32m/opt/conda/envs/python35-paddle120-env/lib/python3.7/site-packages/paddle/fluid/dygraph/layers.py\u001b[0m in \u001b[0;36m__call__\u001b[0;34m(self, *inputs, **kwargs)\u001b[0m\n\u001b[1;32m    928\u001b[0m             \u001b[0;32mreturn\u001b[0m \u001b[0mself\u001b[0m\u001b[0;34m.\u001b[0m\u001b[0mforward\u001b[0m\u001b[0;34m(\u001b[0m\u001b[0;34m*\u001b[0m\u001b[0minputs\u001b[0m\u001b[0;34m,\u001b[0m \u001b[0;34m**\u001b[0m\u001b[0mkwargs\u001b[0m\u001b[0;34m)\u001b[0m\u001b[0;34m\u001b[0m\u001b[0;34m\u001b[0m\u001b[0m\n\u001b[1;32m    929\u001b[0m         \u001b[0;32melse\u001b[0m\u001b[0;34m:\u001b[0m\u001b[0;34m\u001b[0m\u001b[0;34m\u001b[0m\u001b[0m\n\u001b[0;32m--> 930\u001b[0;31m             \u001b[0;32mreturn\u001b[0m \u001b[0mself\u001b[0m\u001b[0;34m.\u001b[0m\u001b[0m_dygraph_call_func\u001b[0m\u001b[0;34m(\u001b[0m\u001b[0;34m*\u001b[0m\u001b[0minputs\u001b[0m\u001b[0;34m,\u001b[0m \u001b[0;34m**\u001b[0m\u001b[0mkwargs\u001b[0m\u001b[0;34m)\u001b[0m\u001b[0;34m\u001b[0m\u001b[0;34m\u001b[0m\u001b[0m\n\u001b[0m\u001b[1;32m    931\u001b[0m \u001b[0;34m\u001b[0m\u001b[0m\n\u001b[1;32m    932\u001b[0m     \u001b[0;32mdef\u001b[0m \u001b[0mforward\u001b[0m\u001b[0;34m(\u001b[0m\u001b[0mself\u001b[0m\u001b[0;34m,\u001b[0m \u001b[0;34m*\u001b[0m\u001b[0minputs\u001b[0m\u001b[0;34m,\u001b[0m \u001b[0;34m**\u001b[0m\u001b[0mkwargs\u001b[0m\u001b[0;34m)\u001b[0m\u001b[0;34m:\u001b[0m\u001b[0;34m\u001b[0m\u001b[0;34m\u001b[0m\u001b[0m\n",
      "\u001b[0;32m/opt/conda/envs/python35-paddle120-env/lib/python3.7/site-packages/paddle/fluid/dygraph/layers.py\u001b[0m in \u001b[0;36m_dygraph_call_func\u001b[0;34m(self, *inputs, **kwargs)\u001b[0m\n\u001b[1;32m    913\u001b[0m                 \u001b[0moutputs\u001b[0m \u001b[0;34m=\u001b[0m \u001b[0mself\u001b[0m\u001b[0;34m.\u001b[0m\u001b[0mforward\u001b[0m\u001b[0;34m(\u001b[0m\u001b[0;34m*\u001b[0m\u001b[0minputs\u001b[0m\u001b[0;34m,\u001b[0m \u001b[0;34m**\u001b[0m\u001b[0mkwargs\u001b[0m\u001b[0;34m)\u001b[0m\u001b[0;34m\u001b[0m\u001b[0;34m\u001b[0m\u001b[0m\n\u001b[1;32m    914\u001b[0m         \u001b[0;32melse\u001b[0m\u001b[0;34m:\u001b[0m\u001b[0;34m\u001b[0m\u001b[0;34m\u001b[0m\u001b[0m\n\u001b[0;32m--> 915\u001b[0;31m             \u001b[0moutputs\u001b[0m \u001b[0;34m=\u001b[0m \u001b[0mself\u001b[0m\u001b[0;34m.\u001b[0m\u001b[0mforward\u001b[0m\u001b[0;34m(\u001b[0m\u001b[0;34m*\u001b[0m\u001b[0minputs\u001b[0m\u001b[0;34m,\u001b[0m \u001b[0;34m**\u001b[0m\u001b[0mkwargs\u001b[0m\u001b[0;34m)\u001b[0m\u001b[0;34m\u001b[0m\u001b[0;34m\u001b[0m\u001b[0m\n\u001b[0m\u001b[1;32m    916\u001b[0m \u001b[0;34m\u001b[0m\u001b[0m\n\u001b[1;32m    917\u001b[0m         \u001b[0;32mfor\u001b[0m \u001b[0mforward_post_hook\u001b[0m \u001b[0;32min\u001b[0m \u001b[0mself\u001b[0m\u001b[0;34m.\u001b[0m\u001b[0m_forward_post_hooks\u001b[0m\u001b[0;34m.\u001b[0m\u001b[0mvalues\u001b[0m\u001b[0;34m(\u001b[0m\u001b[0;34m)\u001b[0m\u001b[0;34m:\u001b[0m\u001b[0;34m\u001b[0m\u001b[0;34m\u001b[0m\u001b[0m\n",
      "\u001b[0;32m/opt/conda/envs/python35-paddle120-env/lib/python3.7/site-packages/paddle/fluid/dygraph/container.py\u001b[0m in \u001b[0;36mforward\u001b[0;34m(self, input)\u001b[0m\n\u001b[1;32m     96\u001b[0m     \u001b[0;32mdef\u001b[0m \u001b[0mforward\u001b[0m\u001b[0;34m(\u001b[0m\u001b[0mself\u001b[0m\u001b[0;34m,\u001b[0m \u001b[0minput\u001b[0m\u001b[0;34m)\u001b[0m\u001b[0;34m:\u001b[0m\u001b[0;34m\u001b[0m\u001b[0;34m\u001b[0m\u001b[0m\n\u001b[1;32m     97\u001b[0m         \u001b[0;32mfor\u001b[0m \u001b[0mlayer\u001b[0m \u001b[0;32min\u001b[0m \u001b[0mself\u001b[0m\u001b[0;34m.\u001b[0m\u001b[0m_sub_layers\u001b[0m\u001b[0;34m.\u001b[0m\u001b[0mvalues\u001b[0m\u001b[0;34m(\u001b[0m\u001b[0;34m)\u001b[0m\u001b[0;34m:\u001b[0m\u001b[0;34m\u001b[0m\u001b[0;34m\u001b[0m\u001b[0m\n\u001b[0;32m---> 98\u001b[0;31m             \u001b[0minput\u001b[0m \u001b[0;34m=\u001b[0m \u001b[0mlayer\u001b[0m\u001b[0;34m(\u001b[0m\u001b[0minput\u001b[0m\u001b[0;34m)\u001b[0m\u001b[0;34m\u001b[0m\u001b[0;34m\u001b[0m\u001b[0m\n\u001b[0m\u001b[1;32m     99\u001b[0m         \u001b[0;32mreturn\u001b[0m \u001b[0minput\u001b[0m\u001b[0;34m\u001b[0m\u001b[0;34m\u001b[0m\u001b[0m\n\u001b[1;32m    100\u001b[0m \u001b[0;34m\u001b[0m\u001b[0m\n",
      "\u001b[0;32m/opt/conda/envs/python35-paddle120-env/lib/python3.7/site-packages/paddle/fluid/dygraph/layers.py\u001b[0m in \u001b[0;36m__call__\u001b[0;34m(self, *inputs, **kwargs)\u001b[0m\n\u001b[1;32m    928\u001b[0m             \u001b[0;32mreturn\u001b[0m \u001b[0mself\u001b[0m\u001b[0;34m.\u001b[0m\u001b[0mforward\u001b[0m\u001b[0;34m(\u001b[0m\u001b[0;34m*\u001b[0m\u001b[0minputs\u001b[0m\u001b[0;34m,\u001b[0m \u001b[0;34m**\u001b[0m\u001b[0mkwargs\u001b[0m\u001b[0;34m)\u001b[0m\u001b[0;34m\u001b[0m\u001b[0;34m\u001b[0m\u001b[0m\n\u001b[1;32m    929\u001b[0m         \u001b[0;32melse\u001b[0m\u001b[0;34m:\u001b[0m\u001b[0;34m\u001b[0m\u001b[0;34m\u001b[0m\u001b[0m\n\u001b[0;32m--> 930\u001b[0;31m             \u001b[0;32mreturn\u001b[0m \u001b[0mself\u001b[0m\u001b[0;34m.\u001b[0m\u001b[0m_dygraph_call_func\u001b[0m\u001b[0;34m(\u001b[0m\u001b[0;34m*\u001b[0m\u001b[0minputs\u001b[0m\u001b[0;34m,\u001b[0m \u001b[0;34m**\u001b[0m\u001b[0mkwargs\u001b[0m\u001b[0;34m)\u001b[0m\u001b[0;34m\u001b[0m\u001b[0;34m\u001b[0m\u001b[0m\n\u001b[0m\u001b[1;32m    931\u001b[0m \u001b[0;34m\u001b[0m\u001b[0m\n\u001b[1;32m    932\u001b[0m     \u001b[0;32mdef\u001b[0m \u001b[0mforward\u001b[0m\u001b[0;34m(\u001b[0m\u001b[0mself\u001b[0m\u001b[0;34m,\u001b[0m \u001b[0;34m*\u001b[0m\u001b[0minputs\u001b[0m\u001b[0;34m,\u001b[0m \u001b[0;34m**\u001b[0m\u001b[0mkwargs\u001b[0m\u001b[0;34m)\u001b[0m\u001b[0;34m:\u001b[0m\u001b[0;34m\u001b[0m\u001b[0;34m\u001b[0m\u001b[0m\n",
      "\u001b[0;32m/opt/conda/envs/python35-paddle120-env/lib/python3.7/site-packages/paddle/fluid/dygraph/layers.py\u001b[0m in \u001b[0;36m_dygraph_call_func\u001b[0;34m(self, *inputs, **kwargs)\u001b[0m\n\u001b[1;32m    913\u001b[0m                 \u001b[0moutputs\u001b[0m \u001b[0;34m=\u001b[0m \u001b[0mself\u001b[0m\u001b[0;34m.\u001b[0m\u001b[0mforward\u001b[0m\u001b[0;34m(\u001b[0m\u001b[0;34m*\u001b[0m\u001b[0minputs\u001b[0m\u001b[0;34m,\u001b[0m \u001b[0;34m**\u001b[0m\u001b[0mkwargs\u001b[0m\u001b[0;34m)\u001b[0m\u001b[0;34m\u001b[0m\u001b[0;34m\u001b[0m\u001b[0m\n\u001b[1;32m    914\u001b[0m         \u001b[0;32melse\u001b[0m\u001b[0;34m:\u001b[0m\u001b[0;34m\u001b[0m\u001b[0;34m\u001b[0m\u001b[0m\n\u001b[0;32m--> 915\u001b[0;31m             \u001b[0moutputs\u001b[0m \u001b[0;34m=\u001b[0m \u001b[0mself\u001b[0m\u001b[0;34m.\u001b[0m\u001b[0mforward\u001b[0m\u001b[0;34m(\u001b[0m\u001b[0;34m*\u001b[0m\u001b[0minputs\u001b[0m\u001b[0;34m,\u001b[0m \u001b[0;34m**\u001b[0m\u001b[0mkwargs\u001b[0m\u001b[0;34m)\u001b[0m\u001b[0;34m\u001b[0m\u001b[0;34m\u001b[0m\u001b[0m\n\u001b[0m\u001b[1;32m    916\u001b[0m \u001b[0;34m\u001b[0m\u001b[0m\n\u001b[1;32m    917\u001b[0m         \u001b[0;32mfor\u001b[0m \u001b[0mforward_post_hook\u001b[0m \u001b[0;32min\u001b[0m \u001b[0mself\u001b[0m\u001b[0;34m.\u001b[0m\u001b[0m_forward_post_hooks\u001b[0m\u001b[0;34m.\u001b[0m\u001b[0mvalues\u001b[0m\u001b[0;34m(\u001b[0m\u001b[0;34m)\u001b[0m\u001b[0;34m:\u001b[0m\u001b[0;34m\u001b[0m\u001b[0;34m\u001b[0m\u001b[0m\n",
      "\u001b[0;32m~/equalized.py\u001b[0m in \u001b[0;36mforward\u001b[0;34m(self, input)\u001b[0m\n\u001b[1;32m     42\u001b[0m             \u001b[0mbias\u001b[0m\u001b[0;34m=\u001b[0m\u001b[0mself\u001b[0m\u001b[0;34m.\u001b[0m\u001b[0mbias\u001b[0m\u001b[0;34m,\u001b[0m\u001b[0;34m\u001b[0m\u001b[0;34m\u001b[0m\u001b[0m\n\u001b[1;32m     43\u001b[0m             \u001b[0mstride\u001b[0m\u001b[0;34m=\u001b[0m\u001b[0mself\u001b[0m\u001b[0;34m.\u001b[0m\u001b[0mstride\u001b[0m\u001b[0;34m,\u001b[0m\u001b[0;34m\u001b[0m\u001b[0;34m\u001b[0m\u001b[0m\n\u001b[0;32m---> 44\u001b[0;31m             \u001b[0mpadding\u001b[0m\u001b[0;34m=\u001b[0m\u001b[0mself\u001b[0m\u001b[0;34m.\u001b[0m\u001b[0mpadding\u001b[0m\u001b[0;34m,\u001b[0m\u001b[0;34m\u001b[0m\u001b[0;34m\u001b[0m\u001b[0m\n\u001b[0m\u001b[1;32m     45\u001b[0m         )\n\u001b[1;32m     46\u001b[0m \u001b[0;34m\u001b[0m\u001b[0m\n",
      "\u001b[0;32m/opt/conda/envs/python35-paddle120-env/lib/python3.7/site-packages/paddle/nn/functional/conv.py\u001b[0m in \u001b[0;36mconv2d\u001b[0;34m(x, weight, bias, stride, padding, dilation, groups, data_format, name)\u001b[0m\n\u001b[1;32m    617\u001b[0m     return _conv_nd(x, weight, bias, stride, padding, padding_algorithm,\n\u001b[1;32m    618\u001b[0m                     \u001b[0mdilation\u001b[0m\u001b[0;34m,\u001b[0m \u001b[0mgroups\u001b[0m\u001b[0;34m,\u001b[0m \u001b[0mdata_format\u001b[0m\u001b[0;34m,\u001b[0m \u001b[0mchannel_dim\u001b[0m\u001b[0;34m,\u001b[0m \u001b[0ml_type\u001b[0m\u001b[0;34m,\u001b[0m\u001b[0;34m\u001b[0m\u001b[0;34m\u001b[0m\u001b[0m\n\u001b[0;32m--> 619\u001b[0;31m                     use_cudnn, use_mkldnn, name)\n\u001b[0m\u001b[1;32m    620\u001b[0m \u001b[0;34m\u001b[0m\u001b[0m\n\u001b[1;32m    621\u001b[0m \u001b[0;34m\u001b[0m\u001b[0m\n",
      "\u001b[0;32m/opt/conda/envs/python35-paddle120-env/lib/python3.7/site-packages/paddle/nn/functional/conv.py\u001b[0m in \u001b[0;36m_conv_nd\u001b[0;34m(x, weight, bias, stride, padding, padding_algorithm, dilation, groups, data_format, channel_dim, op_type, use_cudnn, use_mkldnn, name)\u001b[0m\n\u001b[1;32m    142\u001b[0m                  \u001b[0;34m\"padding_algorithm\"\u001b[0m\u001b[0;34m,\u001b[0m \u001b[0mpadding_algorithm\u001b[0m\u001b[0;34m,\u001b[0m \u001b[0;34m\"data_format\"\u001b[0m\u001b[0;34m,\u001b[0m\u001b[0;34m\u001b[0m\u001b[0;34m\u001b[0m\u001b[0m\n\u001b[1;32m    143\u001b[0m                  data_format)\n\u001b[0;32m--> 144\u001b[0;31m         \u001b[0mpre_bias\u001b[0m \u001b[0;34m=\u001b[0m \u001b[0mgetattr\u001b[0m\u001b[0;34m(\u001b[0m\u001b[0m_C_ops\u001b[0m\u001b[0;34m,\u001b[0m \u001b[0mop_type\u001b[0m\u001b[0;34m)\u001b[0m\u001b[0;34m(\u001b[0m\u001b[0mx\u001b[0m\u001b[0;34m,\u001b[0m \u001b[0mweight\u001b[0m\u001b[0;34m,\u001b[0m \u001b[0;34m*\u001b[0m\u001b[0mattrs\u001b[0m\u001b[0;34m)\u001b[0m\u001b[0;34m\u001b[0m\u001b[0;34m\u001b[0m\u001b[0m\n\u001b[0m\u001b[1;32m    145\u001b[0m         \u001b[0;32mif\u001b[0m \u001b[0mbias\u001b[0m \u001b[0;32mis\u001b[0m \u001b[0;32mnot\u001b[0m \u001b[0;32mNone\u001b[0m\u001b[0;34m:\u001b[0m\u001b[0;34m\u001b[0m\u001b[0;34m\u001b[0m\u001b[0m\n\u001b[1;32m    146\u001b[0m             \u001b[0mout\u001b[0m \u001b[0;34m=\u001b[0m \u001b[0mnn\u001b[0m\u001b[0;34m.\u001b[0m\u001b[0melementwise_add\u001b[0m\u001b[0;34m(\u001b[0m\u001b[0mpre_bias\u001b[0m\u001b[0;34m,\u001b[0m \u001b[0mbias\u001b[0m\u001b[0;34m,\u001b[0m \u001b[0maxis\u001b[0m\u001b[0;34m=\u001b[0m\u001b[0mchannel_dim\u001b[0m\u001b[0;34m)\u001b[0m\u001b[0;34m\u001b[0m\u001b[0;34m\u001b[0m\u001b[0m\n",
      "\u001b[0;31mKeyboardInterrupt\u001b[0m: "
     ]
    }
   ],
   "source": [
    "epoches = 100\n",
    "\n",
    "stylegan = StyleGanModel()\n",
    "print('train...')\n",
    "for epoch in range(epoches):\n",
    "    for batch_id, data in enumerate(train_loader()):\n",
    "        images = data[0]\n",
    "        d_loss, g_loss, fake = stylegan(images)\n",
    "    if epoch % 10 == 0 or epoch == (epoches - 1 ):\n",
    "        print('epoch =', epoch, ', d_loss =', d_loss.numpy(), ', g_loss =', g_loss.numpy())\n",
    "        show_image_grid(fake, epoch)"
   ]
  },
  {
   "cell_type": "code",
   "execution_count": null,
   "metadata": {
    "scrolled": true
   },
   "outputs": [],
   "source": []
  }
 ],
 "metadata": {
  "kernelspec": {
   "display_name": "Python 3",
   "language": "python",
   "name": "py35-paddle1.2.0"
  },
  "language_info": {
   "codemirror_mode": {
    "name": "ipython",
    "version": 3
   },
   "file_extension": ".py",
   "mimetype": "text/x-python",
   "name": "python",
   "nbconvert_exporter": "python",
   "pygments_lexer": "ipython3",
   "version": "3.7.4"
  }
 },
 "nbformat": 4,
 "nbformat_minor": 4
}
